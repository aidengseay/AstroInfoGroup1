{
 "cells": [
  {
   "cell_type": "code",
   "execution_count": null,
   "id": "ea1e044f",
   "metadata": {},
   "outputs": [],
   "source": [
    "# import packages\n",
    "from pymongo import MongoClient\n",
    "import configparser as cfp\n",
    "import pandas as pd\n",
    "\n",
    "# define Mongo class\n",
    "class Mongo:\n",
    "\n",
    "    def __init__(self):\n",
    "\n",
    "        # get sensitive variables from config file\n",
    "        config = cfp.ConfigParser()\n",
    "        config.read('config.ini')\n",
    "        user = config.get('Database', 'dbUser')\n",
    "        host = config.get('Database', 'dbHost')\n",
    "        port = config.get('Database', 'dbPort')\n",
    "        pswd = config.get('Database', 'dbPass')\n",
    "\n",
    "        # craft destination string to access DB\n",
    "        dest = \"mongodb://\" + user + \":\" + pswd + \"@\" + host + \":\" + port\n",
    "        client = MongoClient(dest)\n",
    "        self.db = client.tess\n",
    "\n",
    "    # access data from the DB based on collection\n",
    "    def getData(self, dbKey):\n",
    "        newData = self.db[dbKey]\n",
    "        return newData\n",
    "    \n",
    "\n",
    "# define mongo instance\n",
    "mongo = Mongo()"
   ]
  },
  {
   "cell_type": "code",
   "execution_count": 11,
   "id": "877bf028",
   "metadata": {},
   "outputs": [],
   "source": [
    "# import cycle 1 observations into pandas dataframe\n",
    "collection = mongo.getData(\"observations\")\n",
    "cycle1_df = pd.DataFrame(collection.find())\n",
    "\n",
    "# import cycle 2 observations into pandas dataframe\n",
    "collection = mongo.getData(\"cycle2_observations\")\n",
    "cycle2_df = pd.DataFrame(collection.find())"
   ]
  },
  {
   "cell_type": "code",
   "execution_count": null,
   "id": "125d11af",
   "metadata": {},
   "outputs": [],
   "source": [
    "# convert each dataframe into a csv file\n",
    "cycle1_df.to_csv('cycle1.csv', index=False)\n",
    "cycle2_df.to_csv('cycle2.csv', index=False)"
   ]
  }
 ],
 "metadata": {
  "kernelspec": {
   "display_name": "Python 3",
   "language": "python",
   "name": "python3"
  },
  "language_info": {
   "codemirror_mode": {
    "name": "ipython",
    "version": 3
   },
   "file_extension": ".py",
   "mimetype": "text/x-python",
   "name": "python",
   "nbconvert_exporter": "python",
   "pygments_lexer": "ipython3",
   "version": "3.13.3"
  }
 },
 "nbformat": 4,
 "nbformat_minor": 5
}
