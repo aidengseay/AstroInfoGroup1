{
 "cells": [
  {
   "cell_type": "code",
   "execution_count": 1,
   "id": "ffc3db01",
   "metadata": {},
   "outputs": [
    {
     "name": "stdout",
     "output_type": "stream",
     "text": [
      "                        _id Original_Object_ID           MJD  Magnitude  \\\n",
      "0  67cc99fbb61a68894114bf37               1000  58596.438921 -10.173042   \n",
      "1  67cc99fbb61a68894114bf38               1000  58596.459754 -10.097651   \n",
      "2  67cc99fbb61a68894114bf39               1000  58596.480587  -9.936967   \n",
      "3  67cc99fbb61a68894114bf3a               1000  58596.563920  -9.899730   \n",
      "4  67cc99fbb61a68894114bf3b               1000  58596.584754 -10.061810   \n",
      "\n",
      "   Magnitude_Error  \n",
      "0         0.075739  \n",
      "1         0.081009  \n",
      "2         0.076457  \n",
      "3         0.072220  \n",
      "4         0.056424  \n",
      "                        _id Object_ID           MJD  Magnitude  \\\n",
      "0  681e7faa4281eb4c05317e35         6  58953.873393 -20.574373   \n",
      "1  681e7faa4281eb4c05317e36         6  58953.894226 -21.098431   \n",
      "2  681e7faa4281eb4c05317e37         6  58953.915059 -21.065185   \n",
      "3  681e7faa4281eb4c05317e38         6  58953.935891 -21.066721   \n",
      "4  681e7faa4281eb4c05317e39         6  58953.956724 -21.086373   \n",
      "\n",
      "   Magnitude_Error  Sector  \n",
      "0         0.005147      23  \n",
      "1         0.003861      23  \n",
      "2         0.003924      23  \n",
      "3         0.003896      23  \n",
      "4         0.003819      23  \n"
     ]
    }
   ],
   "source": [
    "# import packages\n",
    "import matplotlib.pyplot as plt\n",
    "import pandas as pd\n",
    "\n",
    "\"\"\"\n",
    "IMPORTANT:\n",
    "For this program to work the researcher needs to put both csv files\n",
    "cycle1.csv and cycle2.csv in a folder called Observations. Run\n",
    "DownloadMongoDB.ipynb to get the files. You will have to manually\n",
    "put these new files in the Observations folder which will be located\n",
    "in the same folder as this file.\n",
    "\"\"\"\n",
    "\n",
    "# import data from csv file into a pandas df\n",
    "cycle1_df = pd.read_csv(\"Observations/cycle1.csv\", low_memory=False)\n",
    "cycle2_df = pd.read_csv(\"Observations/cycle2.csv\", low_memory=False)\n",
    "\n",
    "# TODO: plot the data\n",
    "print(cycle1_df.head())\n",
    "print(cycle2_df.head())\n"
   ]
  },
  {
   "cell_type": "code",
   "execution_count": null,
   "id": "dbc8c951",
   "metadata": {},
   "outputs": [],
   "source": []
  }
 ],
 "metadata": {
  "kernelspec": {
   "display_name": "Python 3",
   "language": "python",
   "name": "python3"
  },
  "language_info": {
   "codemirror_mode": {
    "name": "ipython",
    "version": 3
   },
   "file_extension": ".py",
   "mimetype": "text/x-python",
   "name": "python",
   "nbconvert_exporter": "python",
   "pygments_lexer": "ipython3",
   "version": "3.13.3"
  }
 },
 "nbformat": 4,
 "nbformat_minor": 5
}
