{
 "cells": [
  {
   "cell_type": "code",
   "execution_count": 1,
   "id": "ffc3db01",
   "metadata": {},
   "outputs": [],
   "source": [
    "# import packages\n",
    "import matplotlib.pyplot as plt\n",
    "import pandas as pd\n",
    "\n",
    "\"\"\"\n",
    "IMPORTANT:\n",
    "For this program to work the researcher needs to put both csv files\n",
    "cycle1.csv and cycle2.csv in a folder called Observations. Run\n",
    "DownloadMongoDB.ipynb to get the files. You will have to manually\n",
    "put these new files in the Observations folder which will be located\n",
    "in the same folder as this file.\n",
    "\"\"\"\n",
    "\n",
    "\"\"\"\n",
    "Headers for Cycle1 DF:\n",
    "_id, Original_Object_ID, MDJ, Magnitude, Magnitude_Error\n",
    "\n",
    "Cycle1 Size: 28878 Asteroids\n",
    "\n",
    "Headers for Cycle2 DF:\n",
    "_id, Object_ID, MDJ, Magnitude, Magnitude_Error, Sector\n",
    "\n",
    "Cycle2 Size: 18712 Asteroids\n",
    "\"\"\"\n",
    "\n",
    "# import data from csv file into a pandas df\n",
    "cycle1_df = pd.read_csv(\"Observations/cycle1.csv\", low_memory=False)\n",
    "cycle2_df = pd.read_csv(\"Observations/cycle2.csv\", low_memory=False)"
   ]
  },
  {
   "cell_type": "code",
   "execution_count": null,
   "id": "dbc8c951",
   "metadata": {},
   "outputs": [],
   "source": [
    "# TEMPLATE CODE FOR PLOTTING SPECIFIC ASTEROID ON THEIR OBJECT ID\n",
    "\n",
    "# group each asteroid by their object id\n",
    "asteroids = cycle1_df.groupby(\"Original_Object_ID\")\n",
    "\n",
    "count = 0\n",
    "\n",
    "# plot each asteroid\n",
    "for object_id, asteroid in asteroids:\n",
    "\n",
    "    plt.figure(figsize=(10, 5))\n",
    "    plt.errorbar(asteroid[\"MJD\"], asteroid[\"Magnitude\"], yerr = asteroid[\"Magnitude_Error\"], \n",
    "                 fmt = \"o\", ecolor = \"red\", color = \"orange\", elinewidth = 1, capsize = 2)\n",
    "    plt.title(f\"Magnitude vs MJD for Object ID {object_id}\")\n",
    "    plt.xlabel(\"MJD\")\n",
    "    plt.ylabel(\"Magnitude\")\n",
    "    plt.gca().invert_yaxis()\n",
    "    plt.grid(True)\n",
    "    plt.show()\n",
    "\n",
    "    count += 1\n",
    "\n",
    "    # display the first 10\n",
    "    if count > 10:\n",
    "        break\n"
   ]
  },
  {
   "cell_type": "code",
   "execution_count": null,
   "id": "48c9a4bb",
   "metadata": {},
   "outputs": [],
   "source": []
  }
 ],
 "metadata": {
  "kernelspec": {
   "display_name": "Python 3",
   "language": "python",
   "name": "python3"
  },
  "language_info": {
   "codemirror_mode": {
    "name": "ipython",
    "version": 3
   },
   "file_extension": ".py",
   "mimetype": "text/x-python",
   "name": "python",
   "nbconvert_exporter": "python",
   "pygments_lexer": "ipython3",
   "version": "3.13.3"
  }
 },
 "nbformat": 4,
 "nbformat_minor": 5
}
