{
 "cells": [
  {
   "cell_type": "code",
   "execution_count": 3,
   "id": "18bb8b04",
   "metadata": {},
   "outputs": [
    {
     "name": "stdout",
     "output_type": "stream",
     "text": [
      "Number of unique object ids in cycle 1: 28878\n",
      "Number of unique object ids in cycle 2: 18712\n",
      "Number of common object ids: 3025\n"
     ]
    }
   ],
   "source": [
    "import pandas as pd\n",
    "import numpy as np\n",
    "\n",
    "# get object id column from each cycle\n",
    "cycle1 = pd.read_csv('Observations/cycle1.csv', low_memory=False).astype(str)\n",
    "cycle2 = pd.read_csv('Observations/cycle2.csv', low_memory=False).astype(str)\n",
    "\n",
    "# get unique object ids from each cycle\n",
    "cycle1_ids = np.unique(cycle1['Original_Object_ID'])\n",
    "cycle2_ids = np.unique(cycle2['Object_ID'])\n",
    "\n",
    "# print the number of unique object ids in each cycle\n",
    "print(f'Number of unique object ids in cycle 1: {len(cycle1_ids)}')\n",
    "print(f'Number of unique object ids in cycle 2: {len(cycle2_ids)}')\n",
    "\n",
    "# find intersection of object ids\n",
    "common_ids = set(cycle1_ids).intersection(set(cycle2_ids))\n",
    "\n",
    "# print the number of common object ids\n",
    "print(f'Number of common object ids: {len(common_ids)}')"
   ]
  }
 ],
 "metadata": {
  "kernelspec": {
   "display_name": "Python 3",
   "language": "python",
   "name": "python3"
  },
  "language_info": {
   "codemirror_mode": {
    "name": "ipython",
    "version": 3
   },
   "file_extension": ".py",
   "mimetype": "text/x-python",
   "name": "python",
   "nbconvert_exporter": "python",
   "pygments_lexer": "ipython3",
   "version": "3.13.3"
  }
 },
 "nbformat": 4,
 "nbformat_minor": 5
}
