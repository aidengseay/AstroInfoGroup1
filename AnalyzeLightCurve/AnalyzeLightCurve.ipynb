{
 "cells": [
  {
   "cell_type": "code",
   "execution_count": null,
   "id": "b044e99d",
   "metadata": {},
   "outputs": [],
   "source": [
    "# import packages\n",
    "import matplotlib.pyplot as plt\n",
    "import numpy as np\n",
    "import pandas as pd\n",
    "\n",
    "# import data from csv files\n",
    "cycle1_df = pd.read_csv(\"Data/cycle1_results.csv\", low_memory=False)\n",
    "cycle2_df = pd.read_csv(\"Data/cycle2_results.csv\", low_memory=False)\n",
    "\n"
   ]
  }
 ],
 "metadata": {
  "language_info": {
   "name": "python"
  }
 },
 "nbformat": 4,
 "nbformat_minor": 5
}
