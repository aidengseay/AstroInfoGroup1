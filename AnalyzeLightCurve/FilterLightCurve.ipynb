{
 "cells": [
  {
   "cell_type": "code",
   "execution_count": 7,
   "id": "b044e99d",
   "metadata": {},
   "outputs": [
    {
     "name": "stdout",
     "output_type": "stream",
     "text": [
      "Cycle 1 Asteroids #: 28878\n",
      "Cycle 2 Asteroids #: 18712\n"
     ]
    }
   ],
   "source": [
    "# import packages\n",
    "import pandas as pd\n",
    "\n",
    "\"\"\"\n",
    "IMPORTANT:\n",
    "For this program to work the researcher needs to put csv files\n",
    "cycle_results.csv and cycle2_results.csv in a folder \n",
    "called Data. This folder Data will be in the same folder as this program\n",
    "\n",
    "FILTER VALUES USED (throw out data that meets the following):\n",
    "\n",
    "- Peak power < 0.4\n",
    "- Number of Observations < 100\n",
    "- Reduced Chi2 > 1.5\n",
    "\n",
    "Headers Expected:\n",
    "cycle,asteroid_id,reduced_chi2,peak_power,period_(hr),amplitude,num_observations\n",
    "\"\"\"\n",
    "\n",
    "# import data from csv files\n",
    "cycle1_df = pd.read_csv(\"Data/cycle1_results.csv\", low_memory=False)\n",
    "cycle2_df = pd.read_csv(\"Data/cycle2_results.csv\", low_memory=False)\n",
    "\n",
    "# determines how many asteroids there are before the filter\n",
    "print(f\"Cycle 1 Asteroids #: {len(cycle1_df)}\")\n",
    "print(f\"Cycle 2 Asteroids #: {len(cycle2_df)}\")"
   ]
  },
  {
   "cell_type": "code",
   "execution_count": 8,
   "id": "cedb004a",
   "metadata": {},
   "outputs": [
    {
     "name": "stdout",
     "output_type": "stream",
     "text": [
      "Cycle 1 Asteroids #: 17915\n",
      "Cycle 2 Asteroids #: 11866\n",
      "\n",
      "Cycle 1 Asteroids Removed: 10963\n",
      "Cycle 2 Asteroids Removed: 6846\n"
     ]
    }
   ],
   "source": [
    "\"\"\"\n",
    "Number of Observations Filter\n",
    "\"\"\"\n",
    "\n",
    "# what are the min number of observations required?\n",
    "obs_min = 100\n",
    "\n",
    "# filter observations less than observations value\n",
    "cycle1_df_obs_filter = cycle1_df[cycle1_df[\"num_observations\"] >= obs_min]\n",
    "cycle2_df_obs_filter = cycle2_df[cycle2_df[\"num_observations\"] >= obs_min]\n",
    "\n",
    "# how many asteroids meet the minimum?\n",
    "print(f\"Cycle 1 Asteroids #: {len(cycle1_df_obs_filter)}\")\n",
    "print(f\"Cycle 2 Asteroids #: {len(cycle2_df_obs_filter)}\\n\")\n",
    "\n",
    "# how many asteroids removed?\n",
    "print(f\"Cycle 1 Asteroids Removed: {len(cycle1_df) - len(cycle1_df_obs_filter)}\")\n",
    "print(f\"Cycle 2 Asteroids Removed: {len(cycle2_df) - len(cycle2_df_obs_filter)}\")\n",
    "\n",
    "# export into csv file\n",
    "# cycle1_df_obs_filter.to_csv('cycle1_results_min_obs.csv', index=False)\n",
    "# cycle2_df_obs_filter.to_csv('cycle2_results_min_obs.csv', index=False)\n"
   ]
  },
  {
   "cell_type": "code",
   "execution_count": 9,
   "id": "d2c362b3",
   "metadata": {},
   "outputs": [
    {
     "name": "stdout",
     "output_type": "stream",
     "text": [
      "Cycle 1 Asteroids #: 9920\n",
      "Cycle 2 Asteroids #: 6802\n",
      "\n",
      "Cycle 1 Asteroids Removed: 18958\n",
      "Cycle 2 Asteroids Removed: 11910\n"
     ]
    }
   ],
   "source": [
    "\"\"\"\n",
    "Peak Power Filter\n",
    "\"\"\"\n",
    "\n",
    "# what is the min peak power required?\n",
    "min_power = 0.4\n",
    "\n",
    "# filter observations less than observations value\n",
    "cycle1_df_power_filter = cycle1_df[cycle1_df[\"peak_power\"] >= min_power]\n",
    "cycle2_df_power_filter = cycle2_df[cycle2_df[\"peak_power\"] >= min_power]\n",
    "\n",
    "# how many asteroids meet the minimum?\n",
    "print(f\"Cycle 1 Asteroids #: {len(cycle1_df_power_filter)}\")\n",
    "print(f\"Cycle 2 Asteroids #: {len(cycle2_df_power_filter)}\\n\")\n",
    "\n",
    "# how many asteroids removed?\n",
    "print(f\"Cycle 1 Asteroids Removed: {len(cycle1_df) - len(cycle1_df_power_filter)}\")\n",
    "print(f\"Cycle 2 Asteroids Removed: {len(cycle2_df) - len(cycle2_df_power_filter)}\")\n",
    "\n",
    "# export into csv file\n",
    "# cycle1_df_power_filter.to_csv('cycle1_results_min_pwr.csv', index=False)\n",
    "# cycle2_df_power_filter.to_csv('cycle2_results_min_pwr.csv', index=False)\n"
   ]
  },
  {
   "cell_type": "code",
   "execution_count": 10,
   "id": "28e7617b",
   "metadata": {},
   "outputs": [
    {
     "name": "stdout",
     "output_type": "stream",
     "text": [
      "Cycle 1 Asteroids #: 25610\n",
      "Cycle 2 Asteroids #: 16510\n",
      "\n",
      "Cycle 1 Asteroids Removed: 3268\n",
      "Cycle 2 Asteroids Removed: 2202\n"
     ]
    }
   ],
   "source": [
    "\"\"\"\n",
    "Reduced Chi2 Value Filter\n",
    "\"\"\"\n",
    "\n",
    "# what is the max chi2 value required?\n",
    "max_chi2 = 1.5\n",
    "\n",
    "# filter observations less than observations value\n",
    "cycle1_df_chi2_filter = cycle1_df[cycle1_df[\"reduced_chi2\"] <= max_chi2]\n",
    "cycle2_df_chi2_filter = cycle2_df[cycle2_df[\"reduced_chi2\"] <= max_chi2]\n",
    "\n",
    "# how many asteroids meet the minimum?\n",
    "print(f\"Cycle 1 Asteroids #: {len(cycle1_df_chi2_filter)}\")\n",
    "print(f\"Cycle 2 Asteroids #: {len(cycle2_df_chi2_filter)}\\n\")\n",
    "\n",
    "# how many asteroids removed?\n",
    "print(f\"Cycle 1 Asteroids Removed: {len(cycle1_df) - len(cycle1_df_chi2_filter)}\")\n",
    "print(f\"Cycle 2 Asteroids Removed: {len(cycle2_df) - len(cycle2_df_chi2_filter)}\")\n",
    "\n",
    "# export into csv file\n",
    "# cycle1_df_chi2_filter.to_csv('cycle1_results_min_pwr.csv', index=False)\n",
    "# cycle2_df_chi2_filter.to_csv('cycle2_results_min_pwr.csv', index=False)"
   ]
  },
  {
   "cell_type": "code",
   "execution_count": null,
   "id": "ae0fe3fc",
   "metadata": {},
   "outputs": [
    {
     "name": "stdout",
     "output_type": "stream",
     "text": [
      "Cycle 1 Asteroids #: 2017\n",
      "Cycle 2 Asteroids #: 1493\n",
      "\n",
      "Cycle 1 Asteroids Removed: 26861\n",
      "Cycle 2 Asteroids Removed: 17219\n"
     ]
    }
   ],
   "source": [
    "\"\"\"\n",
    "All 3 Filters Combined\n",
    "\"\"\"\n",
    "\n",
    "# values to filter by\n",
    "obs_min = 100\n",
    "max_chi2 = 1.5\n",
    "min_power = 0.4\n",
    "\n",
    "# filter all\n",
    "cycle1_df_all_filter = cycle1_df[\n",
    "    (cycle1_df[\"reduced_chi2\"] <= max_chi2) &\n",
    "    (cycle1_df[\"peak_power\"] >= min_power) &\n",
    "    (cycle1_df[\"num_observations\"] >= obs_min)\n",
    "]\n",
    "\n",
    "cycle2_df_all_filter = cycle2_df[\n",
    "    (cycle2_df[\"reduced_chi2\"] <= max_chi2) &\n",
    "    (cycle2_df[\"peak_power\"] >= min_power) &\n",
    "    (cycle2_df[\"num_observations\"] >= obs_min)\n",
    "]\n",
    "\n",
    "# how many asteroids meet the filter?\n",
    "print(f\"Cycle 1 Asteroids #: {len(cycle1_df_all_filter)}\")\n",
    "print(f\"Cycle 2 Asteroids #: {len(cycle2_df_all_filter)}\\n\")\n",
    "\n",
    "# how many asteroids removed?\n",
    "print(f\"Cycle 1 Asteroids Removed: {len(cycle1_df) - len(cycle1_df_all_filter)}\")\n",
    "print(f\"Cycle 2 Asteroids Removed: {len(cycle2_df) - len(cycle2_df_all_filter)}\")\n",
    "\n",
    "# export into csv file\n",
    "# cycle1_df_all_filter.to_csv('cycle1_results_all_filter.csv', index=False)\n",
    "# cycle2_df_all_filter.to_csv('cycle2_results_all_filter.csv', index=False)\n"
   ]
  }
 ],
 "metadata": {
  "kernelspec": {
   "display_name": "Python 3",
   "language": "python",
   "name": "python3"
  },
  "language_info": {
   "codemirror_mode": {
    "name": "ipython",
    "version": 3
   },
   "file_extension": ".py",
   "mimetype": "text/x-python",
   "name": "python",
   "nbconvert_exporter": "python",
   "pygments_lexer": "ipython3",
   "version": "3.13.3"
  }
 },
 "nbformat": 4,
 "nbformat_minor": 5
}
