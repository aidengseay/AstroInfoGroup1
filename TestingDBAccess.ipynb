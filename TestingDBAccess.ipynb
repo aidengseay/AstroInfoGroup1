{
 "cells": [
  {
   "cell_type": "code",
   "execution_count": null,
   "id": "ea1e044f",
   "metadata": {},
   "outputs": [
    {
     "name": "stdout",
     "output_type": "stream",
     "text": [
      "                        _id Original_Object_ID           MJD  Magnitude  \\\n",
      "0  67cc99fbb61a68894114bf37               1000  58596.438921 -10.173042   \n",
      "1  67cc99fbb61a68894114bf38               1000  58596.459754 -10.097651   \n",
      "2  67cc99fbb61a68894114bf39               1000  58596.480587  -9.936967   \n",
      "3  67cc99fbb61a68894114bf3a               1000  58596.563920  -9.899730   \n",
      "4  67cc99fbb61a68894114bf3b               1000  58596.584754 -10.061810   \n",
      "\n",
      "   Magnitude_Error  \n",
      "0         0.075739  \n",
      "1         0.081009  \n",
      "2         0.076457  \n",
      "3         0.072220  \n",
      "4         0.056424  \n"
     ]
    }
   ],
   "source": [
    "# import packages\n",
    "from pymongo import MongoClient\n",
    "import configparser as cfp\n",
    "import pandas as pd\n",
    "\n",
    "# define Mongo class\n",
    "class Mongo:\n",
    "\n",
    "    def __init__(self):\n",
    "\n",
    "        # get sensitive variables from config file\n",
    "        config = cfp.ConfigParser()\n",
    "        config.read('config.ini')\n",
    "        user = config.get('Database', 'dbUser')\n",
    "        host = config.get('Database', 'dbHost')\n",
    "        port = config.get('Database', 'dbPort')\n",
    "        pswd = config.get('Database', 'dbPass')\n",
    "\n",
    "        # craft destination string to access DB\n",
    "        dest = \"mongodb://\" + user + \":\" + pswd + \"@\" + host + \":\" + port\n",
    "        client = MongoClient(dest)\n",
    "        self.db = client.tess\n",
    "\n",
    "    # access data from the DB based on collection\n",
    "    def getData(self, dbKey):\n",
    "        newData = self.db[dbKey]\n",
    "        return newData\n",
    "    \n",
    "\n",
    "# TODO: testing observations collection\n",
    "mongo = Mongo()\n",
    "collection = mongo.getData(\"observations\")\n",
    "df = pd.DataFrame(collection.find())\n",
    "print(df.head())\n",
    "\n"
   ]
  }
 ],
 "metadata": {
  "kernelspec": {
   "display_name": "Python 3",
   "language": "python",
   "name": "python3"
  },
  "language_info": {
   "codemirror_mode": {
    "name": "ipython",
    "version": 3
   },
   "file_extension": ".py",
   "mimetype": "text/x-python",
   "name": "python",
   "nbconvert_exporter": "python",
   "pygments_lexer": "ipython3",
   "version": "3.13.3"
  }
 },
 "nbformat": 4,
 "nbformat_minor": 5
}
